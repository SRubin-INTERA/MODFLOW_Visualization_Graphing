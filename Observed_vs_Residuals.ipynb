{
 "cells": [
  {
   "cell_type": "code",
   "execution_count": 1,
   "metadata": {},
   "outputs": [],
   "source": [
    "import pandas as pd\n",
    "import matplotlib.pyplot as plt\n",
    "from datetime import datetime as dt\n",
    "from datetime import timedelta as td\n",
    "import numpy as np\n",
    "from pandas import Timestamp\n",
    "\n",
    "file_path = r'C:/Users/srubin/OneDrive - INTERA Inc/Lisbon/MODFLOW_Visualization/l210610d/l210610d_targets.xlsx'\n",
    "refDate = dt(1990, 4, 1)\n",
    "df = pd.read_excel(file_path)\n",
    "df['Date'] = refDate + pd.TimedeltaIndex(df['Time'], unit='D')"
   ]
  },
  {
   "cell_type": "code",
   "execution_count": 3,
   "metadata": {
    "collapsed": true
   },
   "outputs": [
    {
     "data": {
      "text/html": [
       "<div>\n",
       "<style scoped>\n",
       "    .dataframe tbody tr th:only-of-type {\n",
       "        vertical-align: middle;\n",
       "    }\n",
       "\n",
       "    .dataframe tbody tr th {\n",
       "        vertical-align: top;\n",
       "    }\n",
       "\n",
       "    .dataframe thead th {\n",
       "        text-align: right;\n",
       "    }\n",
       "</style>\n",
       "<table border=\"1\" class=\"dataframe\">\n",
       "  <thead>\n",
       "    <tr style=\"text-align: right;\">\n",
       "      <th></th>\n",
       "      <th>Name</th>\n",
       "      <th>Time</th>\n",
       "      <th>X</th>\n",
       "      <th>Y</th>\n",
       "      <th>Layer</th>\n",
       "      <th>Observed</th>\n",
       "      <th>Computed</th>\n",
       "      <th>Weight</th>\n",
       "      <th>Group</th>\n",
       "      <th>Residual</th>\n",
       "      <th>Date</th>\n",
       "    </tr>\n",
       "  </thead>\n",
       "  <tbody>\n",
       "    <tr>\n",
       "      <th>0</th>\n",
       "      <td>D-3</td>\n",
       "      <td>3308.0</td>\n",
       "      <td>2.275016e+06</td>\n",
       "      <td>1.043245e+07</td>\n",
       "      <td>12.0</td>\n",
       "      <td>6551.10</td>\n",
       "      <td>6512.667621</td>\n",
       "      <td>1.0</td>\n",
       "      <td>1.0</td>\n",
       "      <td>38.432379</td>\n",
       "      <td>1999-04-22</td>\n",
       "    </tr>\n",
       "    <tr>\n",
       "      <th>1</th>\n",
       "      <td>D-3</td>\n",
       "      <td>4150.0</td>\n",
       "      <td>2.275016e+06</td>\n",
       "      <td>1.043245e+07</td>\n",
       "      <td>12.0</td>\n",
       "      <td>6541.81</td>\n",
       "      <td>6515.989091</td>\n",
       "      <td>1.0</td>\n",
       "      <td>1.0</td>\n",
       "      <td>25.820909</td>\n",
       "      <td>2001-08-11</td>\n",
       "    </tr>\n",
       "    <tr>\n",
       "      <th>2</th>\n",
       "      <td>D-3</td>\n",
       "      <td>4413.0</td>\n",
       "      <td>2.275016e+06</td>\n",
       "      <td>1.043245e+07</td>\n",
       "      <td>12.0</td>\n",
       "      <td>6541.96</td>\n",
       "      <td>6515.767197</td>\n",
       "      <td>1.0</td>\n",
       "      <td>1.0</td>\n",
       "      <td>26.192803</td>\n",
       "      <td>2002-05-01</td>\n",
       "    </tr>\n",
       "    <tr>\n",
       "      <th>3</th>\n",
       "      <td>DH-10</td>\n",
       "      <td>543.0</td>\n",
       "      <td>2.274821e+06</td>\n",
       "      <td>1.043232e+07</td>\n",
       "      <td>12.0</td>\n",
       "      <td>6503.70</td>\n",
       "      <td>6509.955700</td>\n",
       "      <td>1.0</td>\n",
       "      <td>1.0</td>\n",
       "      <td>-6.255700</td>\n",
       "      <td>1991-09-26</td>\n",
       "    </tr>\n",
       "    <tr>\n",
       "      <th>4</th>\n",
       "      <td>DH-10</td>\n",
       "      <td>928.0</td>\n",
       "      <td>2.274821e+06</td>\n",
       "      <td>1.043232e+07</td>\n",
       "      <td>12.0</td>\n",
       "      <td>6502.70</td>\n",
       "      <td>6510.285647</td>\n",
       "      <td>1.0</td>\n",
       "      <td>1.0</td>\n",
       "      <td>-7.585647</td>\n",
       "      <td>1992-10-15</td>\n",
       "    </tr>\n",
       "  </tbody>\n",
       "</table>\n",
       "</div>"
      ],
      "text/plain": [
       "    Name    Time             X             Y  Layer  Observed     Computed  \\\n",
       "0    D-3  3308.0  2.275016e+06  1.043245e+07   12.0   6551.10  6512.667621   \n",
       "1    D-3  4150.0  2.275016e+06  1.043245e+07   12.0   6541.81  6515.989091   \n",
       "2    D-3  4413.0  2.275016e+06  1.043245e+07   12.0   6541.96  6515.767197   \n",
       "3  DH-10   543.0  2.274821e+06  1.043232e+07   12.0   6503.70  6509.955700   \n",
       "4  DH-10   928.0  2.274821e+06  1.043232e+07   12.0   6502.70  6510.285647   \n",
       "\n",
       "   Weight  Group   Residual       Date  \n",
       "0     1.0    1.0  38.432379 1999-04-22  \n",
       "1     1.0    1.0  25.820909 2001-08-11  \n",
       "2     1.0    1.0  26.192803 2002-05-01  \n",
       "3     1.0    1.0  -6.255700 1991-09-26  \n",
       "4     1.0    1.0  -7.585647 1992-10-15  "
      ]
     },
     "execution_count": 3,
     "metadata": {},
     "output_type": "execute_result"
    }
   ],
   "source": [
    "df.head()"
   ]
  },
  {
   "cell_type": "markdown",
   "metadata": {},
   "source": [
    "**plt.scatter(): Observed vs. Residuals"
   ]
  },
  {
   "cell_type": "code",
   "execution_count": 24,
   "metadata": {},
   "outputs": [
    {
     "data": {
      "image/png": "[encoded data removed]",
      "text/plain": [
       "<Figure size 432x288 with 1 Axes>"
      ]
     },
     "metadata": {
      "needs_background": "light"
     },
     "output_type": "display_data"
    }
   ],
   "source": [
    "##test scatter plot by color (\"Layer\") using matplotlib\n",
    "fig, ax = plt.subplots()\n",
    "\n",
    "residual = df['Residual']\n",
    "observed = df['Observed']\n",
    "\n",
    "layers = df['Layer']\n",
    "\n",
    "scatter = ax.scatter(observed, residual, c=layers, marker='.', cmap='tab20c', alpha=0.95)\n",
    "ax.legend(*scatter.legend_elements(), title=\"Layers\", bbox_to_anchor=(1.0, 1.05))\n",
    "plt.title(\"Observed vs. Residuals\")\n",
    "plt.xlabel(\"Observed Value\")\n",
    "plt.ylabel(\"Residual\")\n",
    "plt.grid()"
   ]
  }
 ],
 "metadata": {
  "kernelspec": {
   "display_name": "Python 3",
   "language": "python",
   "name": "python3"
  },
  "language_info": {
   "codemirror_mode": {
    "name": "ipython",
    "version": 3
   },
   "file_extension": ".py",
   "mimetype": "text/x-python",
   "name": "python",
   "nbconvert_exporter": "python",
   "pygments_lexer": "ipython3",
   "version": "3.8.5"
  }
 },
 "nbformat": 4,
 "nbformat_minor": 4
}
